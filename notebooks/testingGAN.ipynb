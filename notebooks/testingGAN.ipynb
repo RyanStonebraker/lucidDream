{
 "cells": [
  {
   "cell_type": "code",
   "execution_count": 18,
   "metadata": {},
   "outputs": [],
   "source": [
    "import re\n",
    "\n",
    "with open(\"../corpora/sherlockholmes.txt\", \"r\") as corpus:\n",
    "    with open(\"../corpora/sherlockholmes-sntsep.txt\", \"w\") as sentenceWriter:\n",
    "        fullCorpus = corpus.read().strip().replace(\"\\n\", \" \")\n",
    "        fullCorpus = re.sub(r\"[\\s|\\t]+\", \" \", fullCorpus)\n",
    "        \n",
    "        tokens = fullCorpus.split(\" \")\n",
    "        currentSentence = \"\"\n",
    "        for token in tokens:\n",
    "            if re.match(r\"[A-Z][a-z]\\.\", token[-3:]):\n",
    "                pass\n",
    "            elif re.match(r\"[^A-Z]\\.|[\\.\\?!]\\\"\", token[-2:]):\n",
    "                currentSentence += \" \" + token\n",
    "                sentenceWriter.write(currentSentence.strip() + \"\\n\")\n",
    "                currentSentence = \"\"\n",
    "            else:\n",
    "                currentSentence += \" \" + token\n",
    "                \n",
    "#         sentences = []\n",
    "        \n",
    "#         separateEllipsis = fullCorpus.split(\"... \")\n",
    "#         for text in separateEllipsis:\n",
    "#             periodSentences = text.split(\". \")\n",
    "#             for sentence in periodSentences[:-1]:\n",
    "#                 sentences.append(\"{}.\".format(sentence))\n",
    "#             sentences.append(\"{}...\".format(sentences[-1]))"
   ]
  },
  {
   "cell_type": "code",
   "execution_count": null,
   "metadata": {},
   "outputs": [],
   "source": []
  },
  {
   "cell_type": "code",
   "execution_count": null,
   "metadata": {},
   "outputs": [],
   "source": []
  },
  {
   "cell_type": "code",
   "execution_count": null,
   "metadata": {},
   "outputs": [],
   "source": []
  }
 ],
 "metadata": {
  "kernelspec": {
   "display_name": "Python 3",
   "language": "python",
   "name": "python3"
  },
  "language_info": {
   "codemirror_mode": {
    "name": "ipython",
    "version": 3
   },
   "file_extension": ".py",
   "mimetype": "text/x-python",
   "name": "python",
   "nbconvert_exporter": "python",
   "pygments_lexer": "ipython3",
   "version": "3.7.3"
  }
 },
 "nbformat": 4,
 "nbformat_minor": 2
}
