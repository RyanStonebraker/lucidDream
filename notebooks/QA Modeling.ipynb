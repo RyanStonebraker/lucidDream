{
 "cells": [
  {
   "cell_type": "markdown",
   "metadata": {},
   "source": [
    "### Download fastText and facebook infersent models\n",
    "Followed steps at: https://github.com/facebookresearch/InferSent"
   ]
  },
  {
   "cell_type": "code",
   "execution_count": 1,
   "metadata": {},
   "outputs": [
    {
     "name": "stderr",
     "output_type": "stream",
     "text": [
      "[nltk_data] Downloading package punkt to /home/ryan/nltk_data...\n",
      "[nltk_data]   Package punkt is already up-to-date!\n"
     ]
    }
   ],
   "source": [
    "import nltk\n",
    "nltk.download('punkt')\n",
    "import sys\n",
    "sys.path.append(\"../lib/InferSent\")\n",
    "from models import InferSent\n",
    "import torch\n",
    "import pandas as pd\n",
    "import spacy\n",
    "import numpy as np\n",
    "from tqdm.notebook import tqdm"
   ]
  },
  {
   "cell_type": "code",
   "execution_count": 2,
   "metadata": {},
   "outputs": [],
   "source": [
    "params_model = {'bsize': 64, 'word_emb_dim': 300, 'enc_lstm_dim': 2048, 'pool_type': 'max', 'dpout_model': 0.0, 'version': 2}\n",
    "infersent = InferSent(params_model)\n",
    "infersent.load_state_dict(torch.load('../models/encoder/infersent2.pkl'))\n",
    "infersent.set_w2v_path(\"../models/fastText/crawl-300d-2M.vec\")"
   ]
  },
  {
   "cell_type": "code",
   "execution_count": 3,
   "metadata": {},
   "outputs": [
    {
     "data": {
      "text/html": [
       "<div>\n",
       "<style scoped>\n",
       "    .dataframe tbody tr th:only-of-type {\n",
       "        vertical-align: middle;\n",
       "    }\n",
       "\n",
       "    .dataframe tbody tr th {\n",
       "        vertical-align: top;\n",
       "    }\n",
       "\n",
       "    .dataframe thead th {\n",
       "        text-align: right;\n",
       "    }\n",
       "</style>\n",
       "<table border=\"1\" class=\"dataframe\">\n",
       "  <thead>\n",
       "    <tr style=\"text-align: right;\">\n",
       "      <th></th>\n",
       "      <th>contexts</th>\n",
       "      <th>questions</th>\n",
       "      <th>answer_texts</th>\n",
       "      <th>answer_starts</th>\n",
       "    </tr>\n",
       "  </thead>\n",
       "  <tbody>\n",
       "    <tr>\n",
       "      <th>0</th>\n",
       "      <td>The Normans (Norman: Nourmands; French: Norman...</td>\n",
       "      <td>In what country is Normandy located?</td>\n",
       "      <td>France</td>\n",
       "      <td>159</td>\n",
       "    </tr>\n",
       "    <tr>\n",
       "      <th>1</th>\n",
       "      <td>The Normans (Norman: Nourmands; French: Norman...</td>\n",
       "      <td>When were the Normans in Normandy?</td>\n",
       "      <td>10th and 11th centuries</td>\n",
       "      <td>94</td>\n",
       "    </tr>\n",
       "    <tr>\n",
       "      <th>2</th>\n",
       "      <td>The Normans (Norman: Nourmands; French: Norman...</td>\n",
       "      <td>When were the Normans in Normandy?</td>\n",
       "      <td>in the 10th and 11th centuries</td>\n",
       "      <td>87</td>\n",
       "    </tr>\n",
       "    <tr>\n",
       "      <th>3</th>\n",
       "      <td>The Normans (Norman: Nourmands; French: Norman...</td>\n",
       "      <td>From which countries did the Norse originate?</td>\n",
       "      <td>Denmark, Iceland and Norway</td>\n",
       "      <td>256</td>\n",
       "    </tr>\n",
       "    <tr>\n",
       "      <th>4</th>\n",
       "      <td>The Normans (Norman: Nourmands; French: Norman...</td>\n",
       "      <td>Who was the Norse leader?</td>\n",
       "      <td>Rollo</td>\n",
       "      <td>308</td>\n",
       "    </tr>\n",
       "  </tbody>\n",
       "</table>\n",
       "</div>"
      ],
      "text/plain": [
       "                                            contexts  \\\n",
       "0  The Normans (Norman: Nourmands; French: Norman...   \n",
       "1  The Normans (Norman: Nourmands; French: Norman...   \n",
       "2  The Normans (Norman: Nourmands; French: Norman...   \n",
       "3  The Normans (Norman: Nourmands; French: Norman...   \n",
       "4  The Normans (Norman: Nourmands; French: Norman...   \n",
       "\n",
       "                                       questions  \\\n",
       "0           In what country is Normandy located?   \n",
       "1             When were the Normans in Normandy?   \n",
       "2             When were the Normans in Normandy?   \n",
       "3  From which countries did the Norse originate?   \n",
       "4                      Who was the Norse leader?   \n",
       "\n",
       "                     answer_texts  answer_starts  \n",
       "0                          France            159  \n",
       "1         10th and 11th centuries             94  \n",
       "2  in the 10th and 11th centuries             87  \n",
       "3     Denmark, Iceland and Norway            256  \n",
       "4                           Rollo            308  "
      ]
     },
     "execution_count": 3,
     "metadata": {},
     "output_type": "execute_result"
    }
   ],
   "source": [
    "squad_df = pd.read_csv(\"../corpora/squad-dev-v2.0.csv\", index_col=0)\n",
    "squad_df.head()"
   ]
  },
  {
   "cell_type": "code",
   "execution_count": 4,
   "metadata": {},
   "outputs": [
    {
     "data": {
      "text/html": [
       "<div>\n",
       "<style scoped>\n",
       "    .dataframe tbody tr th:only-of-type {\n",
       "        vertical-align: middle;\n",
       "    }\n",
       "\n",
       "    .dataframe tbody tr th {\n",
       "        vertical-align: top;\n",
       "    }\n",
       "\n",
       "    .dataframe thead th {\n",
       "        text-align: right;\n",
       "    }\n",
       "</style>\n",
       "<table border=\"1\" class=\"dataframe\">\n",
       "  <thead>\n",
       "    <tr style=\"text-align: right;\">\n",
       "      <th></th>\n",
       "      <th>contexts</th>\n",
       "      <th>questions</th>\n",
       "      <th>answer_texts</th>\n",
       "      <th>answer_starts</th>\n",
       "    </tr>\n",
       "  </thead>\n",
       "  <tbody>\n",
       "    <tr>\n",
       "      <th>4347</th>\n",
       "      <td>In Ancient Greece, Diocles of Carystus (4th century BC) was one of several men studying the medi...</td>\n",
       "      <td>What is Pedanius Dioscorides known for?</td>\n",
       "      <td>writing a five volume book in his native Greek</td>\n",
       "      <td>220</td>\n",
       "    </tr>\n",
       "    <tr>\n",
       "      <th>9651</th>\n",
       "      <td>In his extensively detailed report, Céloron wrote, \"All I can say is that the Natives of these l...</td>\n",
       "      <td>How were leaders back in Europe feeling about news from Celeron expedition?</td>\n",
       "      <td>each side proposing that action be taken</td>\n",
       "      <td>369</td>\n",
       "    </tr>\n",
       "    <tr>\n",
       "      <th>4017</th>\n",
       "      <td>The results of the Haensch study have since been confirmed and amended. Based on genetic evidenc...</td>\n",
       "      <td>What is the current status of the Haensch study?</td>\n",
       "      <td>confirmed and amended</td>\n",
       "      <td>49</td>\n",
       "    </tr>\n",
       "    <tr>\n",
       "      <th>5404</th>\n",
       "      <td>Harvard is a large, highly residential research university. The nominal cost of attendance is hi...</td>\n",
       "      <td>How many individual libraries make up the main school library?</td>\n",
       "      <td>79 individual libraries</td>\n",
       "      <td>357</td>\n",
       "    </tr>\n",
       "    <tr>\n",
       "      <th>2208</th>\n",
       "      <td>Oxygen storage methods include high pressure oxygen tanks, cryogenics and chemical compounds. Fo...</td>\n",
       "      <td>In what form is oxygen transported in smaller containers?</td>\n",
       "      <td>compressed gas;</td>\n",
       "      <td>691</td>\n",
       "    </tr>\n",
       "  </tbody>\n",
       "</table>\n",
       "</div>"
      ],
      "text/plain": [
       "                                                                                                 contexts  \\\n",
       "4347  In Ancient Greece, Diocles of Carystus (4th century BC) was one of several men studying the medi...   \n",
       "9651  In his extensively detailed report, Céloron wrote, \"All I can say is that the Natives of these l...   \n",
       "4017  The results of the Haensch study have since been confirmed and amended. Based on genetic evidenc...   \n",
       "5404  Harvard is a large, highly residential research university. The nominal cost of attendance is hi...   \n",
       "2208  Oxygen storage methods include high pressure oxygen tanks, cryogenics and chemical compounds. Fo...   \n",
       "\n",
       "                                                                        questions  \\\n",
       "4347                                      What is Pedanius Dioscorides known for?   \n",
       "9651  How were leaders back in Europe feeling about news from Celeron expedition?   \n",
       "4017                             What is the current status of the Haensch study?   \n",
       "5404               How many individual libraries make up the main school library?   \n",
       "2208                    In what form is oxygen transported in smaller containers?   \n",
       "\n",
       "                                        answer_texts  answer_starts  \n",
       "4347  writing a five volume book in his native Greek            220  \n",
       "9651        each side proposing that action be taken            369  \n",
       "4017                           confirmed and amended             49  \n",
       "5404                         79 individual libraries            357  \n",
       "2208                                 compressed gas;            691  "
      ]
     },
     "execution_count": 4,
     "metadata": {},
     "output_type": "execute_result"
    }
   ],
   "source": [
    "pd.set_option('max_colwidth', 100)\n",
    "squad_df.sample(5)"
   ]
  },
  {
   "cell_type": "code",
   "execution_count": 5,
   "metadata": {},
   "outputs": [],
   "source": [
    "nlp = spacy.load(\"en\")"
   ]
  },
  {
   "cell_type": "code",
   "execution_count": 6,
   "metadata": {},
   "outputs": [],
   "source": [
    "sentences = []\n",
    "\n",
    "contexts = list(squad_df[\"contexts\"].drop_duplicates())\n",
    "for context in contexts:\n",
    "    doc = nlp(context)\n",
    "    sentences += [sentence.string.strip() for sentence in doc.sents]"
   ]
  },
  {
   "cell_type": "code",
   "execution_count": 7,
   "metadata": {},
   "outputs": [
    {
     "name": "stdout",
     "output_type": "stream",
     "text": [
      "Found 18481(/19809) words with w2v vectors\n",
      "Vocab size : 18481\n"
     ]
    }
   ],
   "source": [
    "infersent.build_vocab(sentences, tokenize=True)"
   ]
  },
  {
   "cell_type": "code",
   "execution_count": 8,
   "metadata": {},
   "outputs": [],
   "source": [
    "embeddings = infersent.encode(sentences, tokenize=True)"
   ]
  },
  {
   "cell_type": "code",
   "execution_count": 9,
   "metadata": {},
   "outputs": [
    {
     "data": {
      "image/png": "[encoded data removed]",
      "text/plain": [
       "<Figure size 432x288 with 1 Axes>"
      ]
     },
     "metadata": {
      "needs_background": "light"
     },
     "output_type": "display_data"
    },
    {
     "data": {
      "text/plain": [
       "(tensor([[ 0.0075, -0.0281,  0.0683,  ..., -0.0171, -0.0331, -0.0084]],\n",
       "        grad_fn=<MaxBackward0>),\n",
       " array([[0, 2, 4, ..., 7, 5, 1]]))"
      ]
     },
     "execution_count": 9,
     "metadata": {},
     "output_type": "execute_result"
    }
   ],
   "source": [
    "infersent.visualize('The person is walking to the store.', tokenize=True)"
   ]
  },
  {
   "cell_type": "code",
   "execution_count": 10,
   "metadata": {},
   "outputs": [
    {
     "data": {
      "image/png": "[encoded data removed]",
      "text/plain": [
       "<Figure size 432x288 with 1 Axes>"
      ]
     },
     "metadata": {
      "needs_background": "light"
     },
     "output_type": "display_data"
    },
    {
     "data": {
      "text/plain": [
       "(tensor([[ 0.0075, -0.0292,  0.0551,  ..., -0.0055, -0.0356, -0.0193]],\n",
       "        grad_fn=<MaxBackward0>),\n",
       " array([[0, 1, 5, ..., 3, 6, 1]]))"
      ]
     },
     "execution_count": 10,
     "metadata": {},
     "output_type": "execute_result"
    }
   ],
   "source": [
    "infersent.visualize('Where is the person walking?', tokenize=True)"
   ]
  },
  {
   "cell_type": "code",
   "execution_count": 11,
   "metadata": {},
   "outputs": [],
   "source": [
    "def cosine_similarity(text1, text2):\n",
    "    return np.dot(text1, text2)/(np.linalg.norm(text1) * np.linalg.norm(text2))"
   ]
  },
  {
   "cell_type": "code",
   "execution_count": 12,
   "metadata": {},
   "outputs": [],
   "source": [
    "def split_sentences(paragraph):\n",
    "    doc = nlp(paragraph)\n",
    "    return [sentence.string.strip() for sentence in doc.sents]"
   ]
  },
  {
   "cell_type": "code",
   "execution_count": 13,
   "metadata": {},
   "outputs": [],
   "source": [
    "def cosine_predict(statements, question):\n",
    "    context_sentences = split_sentences(statements)\n",
    "    most_similar, highest_sim = \"\", 0\n",
    "    for sentence in context_sentences:\n",
    "        similarity = cosine_similarity(infersent.encode([question])[0], infersent.encode([sentence])[0])\n",
    "        if similarity > highest_sim:\n",
    "            most_similar = sentence\n",
    "            highest_sim = similarity\n",
    "    return most_similar, highest_sim"
   ]
  },
  {
   "cell_type": "code",
   "execution_count": null,
   "metadata": {},
   "outputs": [
    {
     "data": {
      "application/vnd.jupyter.widget-view+json": {
       "model_id": "64dcd7e6a2d14d4c8a50a3b22c537384",
       "version_major": 2,
       "version_minor": 0
      },
      "text/plain": [
       "HBox(children=(FloatProgress(value=0.0, max=10388.0), HTML(value='')))"
      ]
     },
     "metadata": {},
     "output_type": "display_data"
    }
   ],
   "source": [
    "# sample_size = 100\n",
    "sample_size = len(squad_df)\n",
    "correct_answers = 0\n",
    "for i, row in tqdm(squad_df.sample(n=sample_size).iterrows(), total=sample_size):\n",
    "    most_similar, accuracy = cosine_predict(row[\"contexts\"], row[\"questions\"])    \n",
    "    correct_answers += 1 if row[\"answer_texts\"] in most_similar else 0\n",
    "print(f\"Cosine Similarity Accuracy: {correct_answers/sample_size}\")"
   ]
  },
  {
   "cell_type": "code",
   "execution_count": null,
   "metadata": {},
   "outputs": [],
   "source": [
    "# sample = squad_df.sample(n=1).iloc(0)[0]\n",
    "sample = squad_df.iloc[7629]\n",
    "sample.head()"
   ]
  },
  {
   "cell_type": "code",
   "execution_count": null,
   "metadata": {},
   "outputs": [],
   "source": [
    "sample.contexts"
   ]
  },
  {
   "cell_type": "code",
   "execution_count": null,
   "metadata": {},
   "outputs": [],
   "source": [
    "statements = split_sentences(sample[\"contexts\"])\n",
    "options = {\"compact\": True, \"bg\": \"#323a48\", \"color\": \"white\", \"font\": \"Source Sans Pro\"}\n",
    "spacy.displacy.render(nlp(statements[0]), style=\"dep\", options=options)"
   ]
  },
  {
   "cell_type": "code",
   "execution_count": null,
   "metadata": {},
   "outputs": [],
   "source": [
    "statements"
   ]
  },
  {
   "cell_type": "code",
   "execution_count": null,
   "metadata": {},
   "outputs": [],
   "source": [
    "cosine_predict(sample.contexts, sample.questions)"
   ]
  },
  {
   "cell_type": "code",
   "execution_count": null,
   "metadata": {},
   "outputs": [],
   "source": [
    "statements = \"The air was cold. The cat was orange. The cat walked across the grass. A bird flew in the sky.\"\n",
    "question = \"Where did the cat walk?\"\n",
    "cosine_predict(statements, question)"
   ]
  },
  {
   "cell_type": "code",
   "execution_count": null,
   "metadata": {},
   "outputs": [],
   "source": [
    "infersent.visualize(question, tokenize=True)"
   ]
  },
  {
   "cell_type": "code",
   "execution_count": null,
   "metadata": {},
   "outputs": [],
   "source": [
    "infersent.visualize(\"The cat walked across the grass.\", tokenize=True)"
   ]
  },
  {
   "cell_type": "code",
   "execution_count": null,
   "metadata": {},
   "outputs": [],
   "source": [
    "# TODO: Random Forest, Log Regression, RNN, AWD-LSTM, Make class for QA model to seed chatbot text gen"
   ]
  },
  {
   "cell_type": "code",
   "execution_count": null,
   "metadata": {},
   "outputs": [],
   "source": []
  }
 ],
 "metadata": {
  "kernelspec": {
   "display_name": "Python 3",
   "language": "python",
   "name": "python3"
  },
  "language_info": {
   "codemirror_mode": {
    "name": "ipython",
    "version": 3
   },
   "file_extension": ".py",
   "mimetype": "text/x-python",
   "name": "python",
   "nbconvert_exporter": "python",
   "pygments_lexer": "ipython3",
   "version": "3.7.6"
  }
 },
 "nbformat": 4,
 "nbformat_minor": 2
}
